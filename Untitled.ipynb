{
 "cells": [
  {
   "cell_type": "code",
   "execution_count": 1,
   "id": "f0fef701-22a5-4731-9805-d2c65c248fb8",
   "metadata": {
    "tags": []
   },
   "outputs": [
    {
     "data": {
      "text/plain": [
       "13"
      ]
     },
     "execution_count": 1,
     "metadata": {},
     "output_type": "execute_result"
    }
   ],
   "source": [
    "5+8\n"
   ]
  },
  {
   "cell_type": "code",
   "execution_count": 2,
   "id": "40738cf7-2d18-4fa2-b6fd-24df638e928b",
   "metadata": {
    "tags": []
   },
   "outputs": [
    {
     "name": "stdout",
     "output_type": "stream",
     "text": [
      "Hello,World\n"
     ]
    }
   ],
   "source": [
    "print(\"Hello,World\")\n"
   ]
  },
  {
   "cell_type": "code",
   "execution_count": 3,
   "id": "d1089d6c-a266-4b3b-a25b-f34eaa082831",
   "metadata": {
    "tags": []
   },
   "outputs": [
    {
     "name": "stdout",
     "output_type": "stream",
     "text": [
      "Hello,World 7684\n"
     ]
    }
   ],
   "source": [
    "print(\"Hello,World\",7684)\n"
   ]
  },
  {
   "cell_type": "code",
   "execution_count": 9,
   "id": "eb6a43b7-8751-42fb-a398-e0f09b7fd35a",
   "metadata": {
    "tags": []
   },
   "outputs": [
    {
     "name": "stdout",
     "output_type": "stream",
     "text": [
      "8582934\n",
      "8582934\n"
     ]
    },
    {
     "name": "stdin",
     "output_type": "stream",
     "text": [
      " 35345\n",
      " 457357324\n"
     ]
    },
    {
     "name": "stdout",
     "output_type": "stream",
     "text": [
      "457392669\n"
     ]
    }
   ],
   "source": [
    "x=989459\n",
    "y=7593475\n",
    "print(x+y)\n",
    "z=x+y\n",
    "print(z)\n",
    "a=int(input())\n",
    "b=int(input())\n",
    "print(a+b)\n"
   ]
  },
  {
   "cell_type": "code",
   "execution_count": 10,
   "id": "06f8b887-5d89-4c2f-aa97-01973764116a",
   "metadata": {
    "tags": []
   },
   "outputs": [
    {
     "name": "stdout",
     "output_type": "stream",
     "text": [
      "Write the first number\n"
     ]
    },
    {
     "name": "stdin",
     "output_type": "stream",
     "text": [
      " 1\n"
     ]
    },
    {
     "name": "stdout",
     "output_type": "stream",
     "text": [
      "Write the 2nd number\n"
     ]
    },
    {
     "name": "stdin",
     "output_type": "stream",
     "text": [
      " 2\n"
     ]
    },
    {
     "name": "stdout",
     "output_type": "stream",
     "text": [
      "The sum is\n",
      "3\n"
     ]
    }
   ],
   "source": [
    "print(\"Write the first number\")\n",
    "a=int(input())\n",
    "print(\"Write the 2nd number\")\n",
    "b=int(input())\n",
    "print(\"The sum is\")\n",
    "print(a+b)\n"
   ]
  },
  {
   "cell_type": "code",
   "execution_count": 11,
   "id": "aad36b89-1ba7-46b6-8a8a-27367399decd",
   "metadata": {
    "tags": []
   },
   "outputs": [
    {
     "name": "stdout",
     "output_type": "stream",
     "text": [
      "Dobry den\n"
     ]
    }
   ],
   "source": [
    "greeting=\"Dzien dobry\"\n",
    "print(greeting)"
   ]
  },
  {
   "cell_type": "code",
   "execution_count": 13,
   "id": "deef00cb-b887-4a8c-b1d9-3414adbbfd77",
   "metadata": {
    "tags": []
   },
   "outputs": [
    {
     "name": "stdout",
     "output_type": "stream",
     "text": [
      "1 2 3\n"
     ]
    }
   ],
   "source": [
    "a,b,c=1,2,3\n",
    "print(a,b,c)\n"
   ]
  },
  {
   "cell_type": "code",
   "execution_count": 14,
   "id": "08ad6343-f57e-487e-9c91-29a17e62d740",
   "metadata": {
    "tags": []
   },
   "outputs": [
    {
     "name": "stdout",
     "output_type": "stream",
     "text": [
      "['apple', 'mango']\n",
      "(1, 700)\n"
     ]
    }
   ],
   "source": [
    "fruits = [\"apple\", \"mango\"]\n",
    "numbers = (1,700)\n",
    "print(fruits)\n",
    "print(numbers)"
   ]
  }
 ],
 "metadata": {
  "kernelspec": {
   "display_name": "Python 3 (ipykernel)",
   "language": "python",
   "name": "python3"
  },
  "language_info": {
   "codemirror_mode": {
    "name": "ipython",
    "version": 3
   },
   "file_extension": ".py",
   "mimetype": "text/x-python",
   "name": "python",
   "nbconvert_exporter": "python",
   "pygments_lexer": "ipython3",
   "version": "3.10.9"
  }
 },
 "nbformat": 4,
 "nbformat_minor": 5
}
